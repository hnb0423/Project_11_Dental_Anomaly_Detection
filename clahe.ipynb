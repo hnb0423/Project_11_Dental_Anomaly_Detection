{
 "cells": [
  {
   "cell_type": "markdown",
   "id": "5baad1f5",
   "metadata": {},
   "source": [
    "# Apply CLAHE\n",
    "Naibo(Ray) Hu"
   ]
  },
  {
   "cell_type": "code",
   "execution_count": 1,
   "id": "92677829",
   "metadata": {},
   "outputs": [],
   "source": [
    "import cv2\n",
    "import numpy as np\n",
    "import matplotlib.pyplot as plt\n",
    "from skimage import io\n",
    "import pandas as pd\n",
    "from keras.models import Sequential\n",
    "from tensorflow.keras.layers import Conv2D\n",
    "from tensorflow.keras.layers import BatchNormalization\n",
    "from tensorflow.keras.layers import MaxPooling2D\n",
    "from tensorflow.keras.layers import Dropout\n",
    "from tensorflow.keras.layers import Flatten\n",
    "from tensorflow.keras.layers import Dense"
   ]
  },
  {
   "cell_type": "code",
   "execution_count": 2,
   "id": "66839908",
   "metadata": {},
   "outputs": [],
   "source": [
    "import sys\n",
    "import sklearn\n",
    "import tensorflow as tf\n",
    "from tensorflow import keras\n",
    "import os\n",
    "import pathlib\n",
    "import shutil\n",
    "from collections import defaultdict\n",
    "from tensorflow.keras.preprocessing.image import load_img\n",
    "from tensorflow.keras.preprocessing.image import img_to_array\n",
    "import tensorflow.keras.preprocessing.image as image\n",
    "from sklearn.model_selection import train_test_split\n",
    "from tqdm import tqdm"
   ]
  },
  {
   "cell_type": "markdown",
   "id": "ea61838d",
   "metadata": {},
   "source": [
    "## Original images"
   ]
  },
  {
   "cell_type": "code",
   "execution_count": 3,
   "id": "961ec9a7",
   "metadata": {},
   "outputs": [],
   "source": [
    "path = \"C:/Users/hnb04/Desktop/dental_training_images/dental_training_images/bitewing1\""
   ]
  },
  {
   "cell_type": "code",
   "execution_count": 4,
   "id": "db76d9a2",
   "metadata": {},
   "outputs": [],
   "source": [
    "image_names = os.listdir(path) #name of image"
   ]
  },
  {
   "cell_type": "code",
   "execution_count": 8,
   "id": "ead92a39",
   "metadata": {},
   "outputs": [],
   "source": [
    "# set new folder\n",
    "target_path= \"C:/Users/hnb04/Desktop/tfod/bitewing_all/original_image\"\n",
    "if not os.path.exists(target_path): # create folder\n",
    "    os.mkdir(target_path)\n",
    "    print(\"folder created\")"
   ]
  },
  {
   "cell_type": "code",
   "execution_count": 6,
   "id": "05eeef04",
   "metadata": {},
   "outputs": [],
   "source": [
    "# copy panoramic image to target folder\n",
    "for i in range (len(image_names)):\n",
    "    image_name = image_names[i]\n",
    "    orginal = os.path.join(path, image_name)\n",
    "    shutil.copy2(orginal, target_path) \n",
    "    \n",
    "    #print(\"Copying image\",i)"
   ]
  },
  {
   "cell_type": "markdown",
   "id": "1f09fa23",
   "metadata": {},
   "source": [
    "## Apply CLAHE"
   ]
  },
  {
   "cell_type": "code",
   "execution_count": 7,
   "id": "6928765b",
   "metadata": {},
   "outputs": [
    {
     "name": "stdout",
     "output_type": "stream",
     "text": [
      "folder created\n"
     ]
    }
   ],
   "source": [
    "clahe_path = 'C:/Users/hnb04/Desktop/tfod/bitewing_all/clahe_image'\n",
    "if not os.path.exists(clahe_path): # create folder\n",
    "    os.mkdir(clahe_path)\n",
    "    print(\"folder created\")"
   ]
  },
  {
   "cell_type": "code",
   "execution_count": 9,
   "id": "4f850fe9",
   "metadata": {
    "scrolled": false
   },
   "outputs": [],
   "source": [
    "# convert original image into clahe and export to clahe_path\n",
    "datadir = target_path\n",
    "for img in os.listdir(datadir):\n",
    "    img0 = cv2.imread(os.path.join(datadir, img)) # read image \n",
    "    img1 = cv2.cvtColor(img0, cv2.COLOR_BGR2GRAY) # convert to gray scale\n",
    "    clahe = cv2.createCLAHE(clipLimit=4.0, tileGridSize=(8,8)) # clahe\n",
    "    clahe_img = clahe.apply(img1) \n",
    "    cv2.imwrite(os.path.join(clahe_path, img), clahe_img) # export clahe image \n",
    "    #plt.figure(figsize=(10,7)) # plot clahe graph\n",
    "    #plt.imshow(clahe_img, cmap=\"gray\")"
   ]
  },
  {
   "cell_type": "code",
   "execution_count": null,
   "id": "5b924a9a",
   "metadata": {},
   "outputs": [],
   "source": []
  }
 ],
 "metadata": {
  "kernelspec": {
   "display_name": "Python 3 (ipykernel)",
   "language": "python",
   "name": "python3"
  },
  "language_info": {
   "codemirror_mode": {
    "name": "ipython",
    "version": 3
   },
   "file_extension": ".py",
   "mimetype": "text/x-python",
   "name": "python",
   "nbconvert_exporter": "python",
   "pygments_lexer": "ipython3",
   "version": "3.9.12"
  }
 },
 "nbformat": 4,
 "nbformat_minor": 5
}
